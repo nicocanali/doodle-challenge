{
 "cells": [
  {
   "cell_type": "code",
   "execution_count": 1,
   "id": "877641f1-aa28-495e-814e-aa956be767b0",
   "metadata": {},
   "outputs": [],
   "source": [
    "import json\n",
    "\n",
    "import pandas as pd\n",
    "\n",
    "from datetime import datetime\n",
    "\n",
    "from kafka import KafkaConsumer\n",
    "from kafka import TopicPartition\n",
    "import memory_profiler"
   ]
  },
  {
   "cell_type": "code",
   "execution_count": 2,
   "id": "f11242cf",
   "metadata": {},
   "outputs": [],
   "source": [
    "from IPython import get_ipython\n",
    "get_ipython().register_magics(memory_profiler.MemoryProfilerMagics)"
   ]
  },
  {
   "cell_type": "markdown",
   "id": "d6bbd395",
   "metadata": {},
   "source": [
    "## Connect to Kafka and verify that data exists"
   ]
  },
  {
   "cell_type": "code",
   "execution_count": 59,
   "id": "69bd035f-47e3-43c6-9c1f-3d5ab95bf2f2",
   "metadata": {},
   "outputs": [],
   "source": [
    "consumer = KafkaConsumer(\n",
    "    bootstrap_servers=['127.0.0.1:9092'],\n",
    "    value_deserializer=lambda m: json.loads(m.decode('utf-8')),\n",
    "    auto_offset_reset='earliest', \n",
    "    enable_auto_commit=False,\n",
    "    consumer_timeout_ms=1000\n",
    ")"
   ]
  },
  {
   "cell_type": "code",
   "execution_count": 103,
   "id": "518c4e31-681f-4271-9d6f-ea2525c458cb",
   "metadata": {},
   "outputs": [
    {
     "data": {
      "text/plain": [
       "{TopicPartition(topic='stream', partition=0): 1000000}"
      ]
     },
     "execution_count": 103,
     "metadata": {},
     "output_type": "execute_result"
    }
   ],
   "source": [
    "consumer.assign([TopicPartition(topic='stream', partition=0)])\n",
    "consumer.end_offsets([TopicPartition(topic='stream', partition=0)]) # Verify number of entries"
   ]
  },
  {
   "cell_type": "code",
   "execution_count": 5,
   "id": "397dd506-9d52-45e6-8c40-1e9c56284313",
   "metadata": {},
   "outputs": [
    {
     "data": {
      "text/plain": [
       "0"
      ]
     },
     "execution_count": 5,
     "metadata": {},
     "output_type": "execute_result"
    }
   ],
   "source": [
    "# This should be zero, since `earliest` was specified\n",
    "consumer.position(TopicPartition(topic='stream', partition=0))"
   ]
  },
  {
   "cell_type": "markdown",
   "id": "b27d98a7",
   "metadata": {},
   "source": [
    "## Print one entry to stdout"
   ]
  },
  {
   "cell_type": "code",
   "execution_count": 5,
   "id": "fdf189de-1f59-4bdf-b612-eaf4a15408a6",
   "metadata": {},
   "outputs": [],
   "source": [
    "# Print the first entry\n",
    "c = next(consumer)"
   ]
  },
  {
   "cell_type": "code",
   "execution_count": 6,
   "id": "76925a5c-3ae1-48ab-be73-f73076901b33",
   "metadata": {},
   "outputs": [
    {
     "data": {
      "text/plain": [
       "ConsumerRecord(topic='stream', partition=0, offset=0, timestamp=1649249246928, timestamp_type=0, key=None, value={'est': ['transactional\\tcode\\tthat\\tis\\teasy\\tto\\twrite\\tand', 'memory\\x0cmanagement\\x0cmakes\\x0cfor\\x0csafe,\\x0csimple,\\x0cand\\x0crobust', [0.0542993, 'pleasant\\\\for\\\\tasks,\\\\both\\\\small\\\\and\\\\large.\\\\Show', [{'tempor': 'transactional\\tcode\\tthat\\tis\\teasy\\tto\\twrite\\tand', 'aliqua.': ['transactional\\tcode\\tthat\\tis\\teasy\\tto\\twrite\\tand', 0.403514, 'example', []], 'Excepteur': 'the\\rRAII\\ridiom)\\rand\\rscope\\rstatements\\rfor\\rdeterministic'}, 'D allows writing large code fragments without redundantly', 'other\\\\hand,\\\\static\\\\inference\\\\deduces\\\\types\\\\and\\\\other'], 'code/properties,/giving/the/best/of/both/the', 'slices,\"and\"ranges\"make\"daily\"programming\"simple\"and', {}, 'transactional\\tcode\\tthat\\tis\\teasy\\tto\\twrite\\tand'], 'read. Show example Built-in linear and associative arrays,', 'example', 'read. Show example Built-in linear and associative arrays,', 'Не верил он любви, свободе;', 'pleasant\\\\for\\\\tasks,\\\\both\\\\small\\\\and\\\\large.\\\\Show', 'example', 'code.\\nD\\nalso\\nsupports\\nscoped\\nresource\\nmanagement\\n(aka', 'memory\\x0cmanagement\\x0cmakes\\x0cfor\\x0csafe,\\x0csimple,\\x0cand\\x0crobust'], 'voluptate': {}, 'uid': 'dcba5742f8a6083a3a9', 'ts': 1468244384, 'nisi': 2, 'labore': 'pleasant\\\\for\\\\tasks,\\\\both\\\\small\\\\and\\\\large.\\\\Show', 'fugiat': 'specifying\"types,\"like\"dynamic\"languages\"do.\"On\"the', 'anim': 69, 'tempor': 'D allows writing large code fragments without redundantly', 'Excepteur': 'D allows writing large code fragments without redundantly', 'laboris': [], 'veniam,': 'specifying\"types,\"like\"dynamic\"languages\"do.\"On\"the', 'ipsum': [], 'qui': 'code.\\nD\\nalso\\nsupports\\nscoped\\nresource\\nmanagement\\n(aka', 'et': 'specifying\"types,\"like\"dynamic\"languages\"do.\"On\"the', 'nulla': [], 'proident,': True, 'officia': [], 'aliqua.': 'memory\\x0cmanagement\\x0cmakes\\x0cfor\\x0csafe,\\x0csimple,\\x0cand\\x0crobust', 'minim': {}, 'deserunt': 'specifying\"types,\"like\"dynamic\"languages\"do.\"On\"the', 'mollit': 'transactional\\tcode\\tthat\\tis\\teasy\\tto\\twrite\\tand', 'do': 'static\\x08and\\x08the\\x08dynamic\\x08worlds.\\x08Show\\x08example\\x08Automatic'}, headers=[], checksum=None, serialized_key_size=-1, serialized_value_size=2091, serialized_header_size=-1)"
      ]
     },
     "execution_count": 6,
     "metadata": {},
     "output_type": "execute_result"
    }
   ],
   "source": [
    "c"
   ]
  },
  {
   "cell_type": "markdown",
   "id": "7fe81b06",
   "metadata": {},
   "source": [
    "## Check ordering"
   ]
  },
  {
   "cell_type": "code",
   "execution_count": 19,
   "id": "d45e3743-94ee-41e8-9296-44529948e04d",
   "metadata": {},
   "outputs": [
    {
     "data": {
      "text/plain": [
       "0"
      ]
     },
     "execution_count": 19,
     "metadata": {},
     "output_type": "execute_result"
    }
   ],
   "source": [
    "# Reset to the beginning, and check if entries are ordered (they should be in the dummy data)\n",
    "consumer.seek_to_beginning()\n",
    "consumer.position(TopicPartition(topic='stream', partition=0))"
   ]
  },
  {
   "cell_type": "code",
   "execution_count": 12,
   "id": "21fc3a98-c9cc-4db5-abe5-e293e92332b6",
   "metadata": {},
   "outputs": [],
   "source": [
    "out_of_order_entries = 0\n",
    "\n",
    "current_ts = datetime.fromtimestamp(0)\n",
    "for msg in consumer:\n",
    "    ts = datetime.fromtimestamp(msg.value['ts'])\n",
    "    if ts >= current_ts:\n",
    "        current_ts = ts\n",
    "    else:\n",
    "        out_of_order_entries += 1"
   ]
  },
  {
   "cell_type": "code",
   "execution_count": 13,
   "id": "a0bce977",
   "metadata": {},
   "outputs": [
    {
     "data": {
      "text/plain": [
       "0"
      ]
     },
     "execution_count": 13,
     "metadata": {},
     "output_type": "execute_result"
    }
   ],
   "source": [
    "out_of_order_entries"
   ]
  },
  {
   "cell_type": "markdown",
   "id": "f324a723",
   "metadata": {},
   "source": [
    "## Count distinct users per minute, in batch mode, keeping all minutes"
   ]
  },
  {
   "cell_type": "code",
   "execution_count": 39,
   "id": "9fb2bf6a",
   "metadata": {},
   "outputs": [],
   "source": [
    "def naive_count(consumer):\n",
    "    consumer.seek_to_beginning()\n",
    "    out = {}\n",
    "    for msg in consumer:\n",
    "        ts = datetime.fromtimestamp(msg.value['ts']).replace(second=0)\n",
    "        if ts not in out:\n",
    "            out[ts] = set()\n",
    "        out[ts].add(msg.value['uid'])\n",
    "\n",
    "    return pd.DataFrame.from_dict({\n",
    "        k.strftime('%F %H:%M'): len(v) for k,v in out.items()}, \n",
    "        orient='index', \n",
    "        columns=['count'])"
   ]
  },
  {
   "cell_type": "code",
   "execution_count": 40,
   "id": "038dd322",
   "metadata": {},
   "outputs": [
    {
     "name": "stdout",
     "output_type": "stream",
     "text": [
      "peak memory: 243.35 MiB, increment: 85.93 MiB\n",
      "CPU times: user 1min 42s, sys: 2.44 s, total: 1min 44s\n",
      "Wall time: 1min 48s\n"
     ]
    }
   ],
   "source": [
    "%time %memit df_naive_count = naive_count(consumer)"
   ]
  },
  {
   "cell_type": "code",
   "execution_count": 41,
   "id": "122dcb1c",
   "metadata": {},
   "outputs": [
    {
     "data": {
      "text/html": [
       "<div>\n",
       "<style scoped>\n",
       "    .dataframe tbody tr th:only-of-type {\n",
       "        vertical-align: middle;\n",
       "    }\n",
       "\n",
       "    .dataframe tbody tr th {\n",
       "        vertical-align: top;\n",
       "    }\n",
       "\n",
       "    .dataframe thead th {\n",
       "        text-align: right;\n",
       "    }\n",
       "</style>\n",
       "<table border=\"1\" class=\"dataframe\">\n",
       "  <thead>\n",
       "    <tr style=\"text-align: right;\">\n",
       "      <th></th>\n",
       "      <th>count</th>\n",
       "    </tr>\n",
       "  </thead>\n",
       "  <tbody>\n",
       "    <tr>\n",
       "      <th>2016-07-11 15:39</th>\n",
       "      <td>16193</td>\n",
       "    </tr>\n",
       "    <tr>\n",
       "      <th>2016-07-11 15:40</th>\n",
       "      <td>41130</td>\n",
       "    </tr>\n",
       "    <tr>\n",
       "      <th>2016-07-11 15:41</th>\n",
       "      <td>47369</td>\n",
       "    </tr>\n",
       "    <tr>\n",
       "      <th>2016-07-11 15:42</th>\n",
       "      <td>49488</td>\n",
       "    </tr>\n",
       "    <tr>\n",
       "      <th>2016-07-11 15:43</th>\n",
       "      <td>47863</td>\n",
       "    </tr>\n",
       "    <tr>\n",
       "      <th>2016-07-11 15:44</th>\n",
       "      <td>40439</td>\n",
       "    </tr>\n",
       "    <tr>\n",
       "      <th>2016-07-11 15:45</th>\n",
       "      <td>42859</td>\n",
       "    </tr>\n",
       "    <tr>\n",
       "      <th>2016-07-11 15:46</th>\n",
       "      <td>47312</td>\n",
       "    </tr>\n",
       "    <tr>\n",
       "      <th>2016-07-11 15:47</th>\n",
       "      <td>48180</td>\n",
       "    </tr>\n",
       "    <tr>\n",
       "      <th>2016-07-11 15:48</th>\n",
       "      <td>47981</td>\n",
       "    </tr>\n",
       "    <tr>\n",
       "      <th>2016-07-11 15:49</th>\n",
       "      <td>42194</td>\n",
       "    </tr>\n",
       "    <tr>\n",
       "      <th>2016-07-11 15:50</th>\n",
       "      <td>45070</td>\n",
       "    </tr>\n",
       "    <tr>\n",
       "      <th>2016-07-11 15:51</th>\n",
       "      <td>43659</td>\n",
       "    </tr>\n",
       "    <tr>\n",
       "      <th>2016-07-11 15:52</th>\n",
       "      <td>48611</td>\n",
       "    </tr>\n",
       "    <tr>\n",
       "      <th>2016-07-11 15:53</th>\n",
       "      <td>42742</td>\n",
       "    </tr>\n",
       "    <tr>\n",
       "      <th>2016-07-11 15:54</th>\n",
       "      <td>51930</td>\n",
       "    </tr>\n",
       "    <tr>\n",
       "      <th>2016-07-11 15:55</th>\n",
       "      <td>45471</td>\n",
       "    </tr>\n",
       "    <tr>\n",
       "      <th>2016-07-11 15:56</th>\n",
       "      <td>138</td>\n",
       "    </tr>\n",
       "  </tbody>\n",
       "</table>\n",
       "</div>"
      ],
      "text/plain": [
       "                  count\n",
       "2016-07-11 15:39  16193\n",
       "2016-07-11 15:40  41130\n",
       "2016-07-11 15:41  47369\n",
       "2016-07-11 15:42  49488\n",
       "2016-07-11 15:43  47863\n",
       "2016-07-11 15:44  40439\n",
       "2016-07-11 15:45  42859\n",
       "2016-07-11 15:46  47312\n",
       "2016-07-11 15:47  48180\n",
       "2016-07-11 15:48  47981\n",
       "2016-07-11 15:49  42194\n",
       "2016-07-11 15:50  45070\n",
       "2016-07-11 15:51  43659\n",
       "2016-07-11 15:52  48611\n",
       "2016-07-11 15:53  42742\n",
       "2016-07-11 15:54  51930\n",
       "2016-07-11 15:55  45471\n",
       "2016-07-11 15:56    138"
      ]
     },
     "execution_count": 41,
     "metadata": {},
     "output_type": "execute_result"
    }
   ],
   "source": [
    "df_naive_count"
   ]
  },
  {
   "cell_type": "markdown",
   "id": "a29b06b9",
   "metadata": {},
   "source": [
    "## Another round of printing, but this time we output ASAP and try to use less memory"
   ]
  },
  {
   "cell_type": "markdown",
   "id": "e8ec81b1-9da4-45b9-86ce-d82ac2dbb905",
   "metadata": {},
   "source": [
    "Note that here we still print as soon as the minute changes, so we don't wait for late messages! But now we print some time metrics"
   ]
  },
  {
   "cell_type": "code",
   "execution_count": 42,
   "id": "e1fceb7c",
   "metadata": {},
   "outputs": [],
   "source": [
    "def print_stats(current_minute, current_minute_users, start, checkpoint):\n",
    "    if current_minute == datetime.fromtimestamp(0):\n",
    "        return\n",
    "    now = datetime.now()\n",
    "    print(f'Minute: {current_minute.strftime(\"%H:%M\")}, '\n",
    "          f'Unique users: {len(current_minute_users):>5}, '\n",
    "          f'Total time: {now - start}',\n",
    "          f'Time since last checkpoint: {now - checkpoint}')"
   ]
  },
  {
   "cell_type": "code",
   "execution_count": 43,
   "id": "79a4d801",
   "metadata": {},
   "outputs": [],
   "source": [
    "def count_and_print_asap(consumer):\n",
    "    consumer.seek_to_beginning()\n",
    "\n",
    "    start = datetime.now()\n",
    "    checkpoint = start\n",
    "\n",
    "    current_minute = datetime.fromtimestamp(0)\n",
    "    current_minute_users = set()\n",
    "\n",
    "    for msg in consumer:\n",
    "        ts_min = datetime.fromtimestamp(msg.value['ts']).replace(second=0)\n",
    "        if current_minute < ts_min:\n",
    "            print_stats(current_minute, current_minute_users, start, checkpoint)\n",
    "            checkpoint = datetime.now()\n",
    "            current_minute = ts_min\n",
    "            current_minute_users = set()\n",
    "        else:\n",
    "            current_minute_users.add(msg.value['uid'])\n",
    "\n",
    "    # Print the last minute\n",
    "    print_stats(current_minute, current_minute_users, start, checkpoint)"
   ]
  },
  {
   "cell_type": "code",
   "execution_count": 44,
   "id": "7051ed39",
   "metadata": {},
   "outputs": [
    {
     "name": "stdout",
     "output_type": "stream",
     "text": [
      "Minute: 15:39, Unique users: 16193, Total time: 0:00:01.753791 Time since last checkpoint: 0:00:01.705800\n",
      "Minute: 15:40, Unique users: 41129, Total time: 0:00:06.948764 Time since last checkpoint: 0:00:05.194251\n",
      "Minute: 15:41, Unique users: 47369, Total time: 0:00:13.344816 Time since last checkpoint: 0:00:06.395833\n",
      "Minute: 15:42, Unique users: 49488, Total time: 0:00:20.109043 Time since last checkpoint: 0:00:06.764051\n",
      "Minute: 15:43, Unique users: 47862, Total time: 0:00:26.584151 Time since last checkpoint: 0:00:06.474922\n",
      "Minute: 15:44, Unique users: 40438, Total time: 0:00:31.513072 Time since last checkpoint: 0:00:04.928713\n",
      "Minute: 15:45, Unique users: 42858, Total time: 0:00:36.951451 Time since last checkpoint: 0:00:05.438194\n",
      "Minute: 15:46, Unique users: 47311, Total time: 0:00:43.022482 Time since last checkpoint: 0:00:06.070836\n",
      "Minute: 15:47, Unique users: 48179, Total time: 0:00:49.410435 Time since last checkpoint: 0:00:06.387770\n",
      "Minute: 15:48, Unique users: 47980, Total time: 0:00:56.067407 Time since last checkpoint: 0:00:06.656793\n",
      "Minute: 15:49, Unique users: 42193, Total time: 0:01:01.629627 Time since last checkpoint: 0:00:05.562040\n",
      "Minute: 15:50, Unique users: 45069, Total time: 0:01:07.519160 Time since last checkpoint: 0:00:05.889364\n",
      "Minute: 15:51, Unique users: 43658, Total time: 0:01:13.907417 Time since last checkpoint: 0:00:06.388057\n",
      "Minute: 15:52, Unique users: 48611, Total time: 0:01:20.967521 Time since last checkpoint: 0:00:07.059927\n",
      "Minute: 15:53, Unique users: 42741, Total time: 0:01:26.483246 Time since last checkpoint: 0:00:05.515494\n",
      "Minute: 15:54, Unique users: 51930, Total time: 0:01:34.278109 Time since last checkpoint: 0:00:07.794649\n",
      "Minute: 15:55, Unique users: 45470, Total time: 0:01:40.696620 Time since last checkpoint: 0:00:06.418321\n",
      "Minute: 15:56, Unique users:   137, Total time: 0:01:41.704781 Time since last checkpoint: 0:00:01.007961\n",
      "peak memory: 191.32 MiB, increment: 0.00 MiB\n",
      "CPU times: user 1min 37s, sys: 2.12 s, total: 1min 39s\n",
      "Wall time: 1min 42s\n"
     ]
    }
   ],
   "source": [
    "%time %memit count_and_print_asap(consumer)"
   ]
  },
  {
   "cell_type": "markdown",
   "id": "f87d9406",
   "metadata": {},
   "source": [
    "We're still using quite a bit of memory (191MB compared to 243 when storing the entire dictionary)"
   ]
  },
  {
   "cell_type": "markdown",
   "id": "34ded920",
   "metadata": {},
   "source": [
    "## JSON serializer overhead"
   ]
  },
  {
   "cell_type": "code",
   "execution_count": 64,
   "id": "873929e8",
   "metadata": {},
   "outputs": [],
   "source": [
    "consumer_with_serializer = KafkaConsumer(\n",
    "    bootstrap_servers=['127.0.0.1:9092'],\n",
    "    value_deserializer=lambda m: json.loads(m.decode('utf-8')),\n",
    "    auto_offset_reset='earliest', \n",
    "    enable_auto_commit=False,\n",
    "    consumer_timeout_ms=1000\n",
    ")\n",
    "\n",
    "consumer_with_serializer.assign([TopicPartition(topic='stream', partition=0)])"
   ]
  },
  {
   "cell_type": "code",
   "execution_count": 65,
   "id": "3bfad14b",
   "metadata": {},
   "outputs": [],
   "source": [
    "def loop_over_all_values(consumer, n=0):\n",
    "    consumer.seek(p, n)\n",
    "    n = 0\n",
    "    for m in consumer:\n",
    "        n += 1\n",
    "    return n"
   ]
  },
  {
   "cell_type": "code",
   "execution_count": 76,
   "id": "36705261",
   "metadata": {},
   "outputs": [
    {
     "name": "stdout",
     "output_type": "stream",
     "text": [
      "peak memory: 200.64 MiB, increment: 0.00 MiB\n",
      "CPU times: user 1min 32s, sys: 2.04 s, total: 1min 34s\n",
      "Wall time: 1min 37s\n"
     ]
    }
   ],
   "source": [
    "%%time\n",
    "%%memit\n",
    "loop_over_all_values(consumer_with_serializer)"
   ]
  },
  {
   "cell_type": "code",
   "execution_count": 77,
   "id": "38fb2856",
   "metadata": {},
   "outputs": [],
   "source": [
    "consumer_without_serializer = KafkaConsumer(\n",
    "    bootstrap_servers=['127.0.0.1:9092'],\n",
    "    auto_offset_reset='earliest', \n",
    "    enable_auto_commit=False,\n",
    "    consumer_timeout_ms=1000\n",
    ")\n",
    "\n",
    "consumer_without_serializer.assign([TopicPartition(topic='stream', partition=0)])"
   ]
  },
  {
   "cell_type": "code",
   "execution_count": 78,
   "id": "78263935",
   "metadata": {},
   "outputs": [
    {
     "name": "stdout",
     "output_type": "stream",
     "text": [
      "peak memory: 199.77 MiB, increment: 0.32 MiB\n",
      "CPU times: user 26.2 s, sys: 1.66 s, total: 27.9 s\n",
      "Wall time: 30.3 s\n"
     ]
    }
   ],
   "source": [
    "%%time\n",
    "%%memit\n",
    "loop_over_all_values(consumer_without_serializer)"
   ]
  },
  {
   "cell_type": "code",
   "execution_count": 79,
   "id": "e36cd06c",
   "metadata": {},
   "outputs": [
    {
     "data": {
      "text/plain": [
       "-0.6907216494845361"
      ]
     },
     "execution_count": 79,
     "metadata": {},
     "output_type": "execute_result"
    }
   ],
   "source": [
    "30/97-1"
   ]
  },
  {
   "cell_type": "markdown",
   "id": "8fce1cb5-3ac6-4a77-bdf7-6b6201602f8e",
   "metadata": {},
   "source": [
    "## Output to Kafka"
   ]
  },
  {
   "cell_type": "markdown",
   "id": "9f6e5930-f695-4be1-a2b0-fd60d0ef4083",
   "metadata": {},
   "source": [
    "Allow test messages from stdin"
   ]
  },
  {
   "cell_type": "code",
   "execution_count": 94,
   "id": "392d30f1-5626-4118-9968-4404df832d71",
   "metadata": {},
   "outputs": [],
   "source": [
    "from kafka import KafkaProducer"
   ]
  },
  {
   "cell_type": "code",
   "execution_count": 95,
   "id": "a44da35e-0579-42b4-a07d-b0c395661d4c",
   "metadata": {},
   "outputs": [],
   "source": [
    "producer = KafkaProducer(\n",
    "    bootstrap_servers=['127.0.0.1:9092'],\n",
    "    value_serializer=lambda m: json.dumps(m).encode('utf-8')\n",
    ")"
   ]
  },
  {
   "cell_type": "code",
   "execution_count": 96,
   "id": "89d5f008-2f09-4919-85c0-c152995c959c",
   "metadata": {},
   "outputs": [
    {
     "data": {
      "text/plain": [
       "<kafka.producer.future.FutureRecordMetadata at 0x115a9ae20>"
      ]
     },
     "execution_count": 96,
     "metadata": {},
     "output_type": "execute_result"
    }
   ],
   "source": [
    "producer.send('processed', key=b'main-key', value={'test-key': 'test-value'})\n",
    "producer.send('processed', key=b'some-different-key', value={'test-key': 'test-value'})"
   ]
  },
  {
   "cell_type": "code",
   "execution_count": 97,
   "id": "80c26861-7866-43b7-8ae5-c20d81fb91c9",
   "metadata": {},
   "outputs": [],
   "source": [
    "consumer.subscribe('processed')"
   ]
  },
  {
   "cell_type": "code",
   "execution_count": 98,
   "id": "27b3ecd8-3f15-4e8e-b517-57556279c7da",
   "metadata": {},
   "outputs": [
    {
     "data": {
      "text/plain": [
       "{'processed'}"
      ]
     },
     "execution_count": 98,
     "metadata": {},
     "output_type": "execute_result"
    }
   ],
   "source": [
    "consumer.subscription()"
   ]
  },
  {
   "cell_type": "code",
   "execution_count": 99,
   "id": "3d0d5cc0-23e0-4bf4-8bd8-d019c59de0ca",
   "metadata": {},
   "outputs": [
    {
     "data": {
      "text/plain": [
       "{0}"
      ]
     },
     "execution_count": 99,
     "metadata": {},
     "output_type": "execute_result"
    }
   ],
   "source": [
    "consumer.partitions_for_topic('processed')"
   ]
  },
  {
   "cell_type": "code",
   "execution_count": 100,
   "id": "80a848b3-2f14-40db-a639-e7e28fca347f",
   "metadata": {},
   "outputs": [
    {
     "data": {
      "text/plain": [
       "{TopicPartition(topic='processed', partition=0): 2}"
      ]
     },
     "execution_count": 100,
     "metadata": {},
     "output_type": "execute_result"
    }
   ],
   "source": [
    "consumer.end_offsets([TopicPartition(topic='processed', partition=0)])"
   ]
  },
  {
   "cell_type": "markdown",
   "id": "688867bf-88df-43e8-bba4-65309cf54a67",
   "metadata": {},
   "source": [
    "I was expecting multiple partitions...oh well"
   ]
  },
  {
   "cell_type": "code",
   "execution_count": 101,
   "id": "94f9ae90-373b-4136-b66e-3974921c7f8e",
   "metadata": {},
   "outputs": [
    {
     "name": "stdout",
     "output_type": "stream",
     "text": [
      "ConsumerRecord(topic='processed', partition=0, offset=0, timestamp=1649323845400, timestamp_type=0, key=b'main-key', value={'test-key': 'test-value'}, headers=[], checksum=None, serialized_key_size=8, serialized_value_size=26, serialized_header_size=-1)\n",
      "ConsumerRecord(topic='processed', partition=0, offset=1, timestamp=1649323845400, timestamp_type=0, key=b'some-different-key', value={'test-key': 'test-value'}, headers=[], checksum=None, serialized_key_size=18, serialized_value_size=26, serialized_header_size=-1)\n"
     ]
    }
   ],
   "source": [
    "for msg in consumer:\n",
    "    print(msg)"
   ]
  },
  {
   "cell_type": "markdown",
   "id": "db6a8ef2-6ad4-4f31-b929-6a061cd15729",
   "metadata": {},
   "source": [
    "### Back to streams"
   ]
  },
  {
   "cell_type": "code",
   "execution_count": 108,
   "id": "f4e1a086-b387-4479-a5bf-9c74b7f18865",
   "metadata": {},
   "outputs": [],
   "source": [
    "consumer.unsubscribe()\n",
    "consumer.assign([TopicPartition(topic='stream', partition=0)])"
   ]
  },
  {
   "cell_type": "code",
   "execution_count": 105,
   "id": "75d41086-2a8c-41f3-98b6-3b622c3669da",
   "metadata": {},
   "outputs": [],
   "source": [
    "def publish_minute(producer, topic, current_minute, current_minute_users):\n",
    "    if current_minute == datetime.fromtimestamp(0):\n",
    "        return\n",
    "    return producer.send(topic, {current_minute.strftime(\"%H:%M\"): len(current_minute_users)})"
   ]
  },
  {
   "cell_type": "code",
   "execution_count": 106,
   "id": "bdd4c9b0-b5c1-405c-a84e-8abc92afc75d",
   "metadata": {},
   "outputs": [],
   "source": [
    "def count_and_publish_asap(consumer, producer):\n",
    "    consumer.seek_to_beginning()\n",
    "\n",
    "    current_minute = datetime.fromtimestamp(0)\n",
    "    current_minute_users = set()\n",
    "\n",
    "    for msg in consumer:\n",
    "        ts_min = datetime.fromtimestamp(msg.value['ts']).replace(second=0)\n",
    "        if current_minute < ts_min:\n",
    "            publish_minute(producer, 'processed', current_minute, current_minute_users)\n",
    "            current_minute = ts_min\n",
    "            current_minute_users = set()\n",
    "        else:\n",
    "            current_minute_users.add(msg.value['uid'])\n",
    "\n",
    "    # Publish the last minute\n",
    "    publish_minute(producer, 'processed', current_minute, current_minute_users)"
   ]
  },
  {
   "cell_type": "code",
   "execution_count": 107,
   "id": "b0954bc6-6736-4c1d-bbbe-ef3061fc5592",
   "metadata": {},
   "outputs": [],
   "source": [
    "count_and_publish_asap(consumer, producer)"
   ]
  },
  {
   "cell_type": "code",
   "execution_count": 113,
   "id": "a5b3656e-a2f2-419b-9116-8c28df3ee5e6",
   "metadata": {},
   "outputs": [],
   "source": [
    "consumer.unsubscribe()\n",
    "consumer.assign([TopicPartition(topic='processed', partition=0)])"
   ]
  },
  {
   "cell_type": "code",
   "execution_count": 116,
   "id": "2c31a3c3-b030-4293-86a4-de70bbc22326",
   "metadata": {},
   "outputs": [
    {
     "name": "stdout",
     "output_type": "stream",
     "text": [
      "{'15:39': 16193}\n",
      "{'15:40': 41129}\n",
      "{'15:41': 47369}\n",
      "{'15:42': 49488}\n",
      "{'15:43': 47862}\n",
      "{'15:44': 40438}\n",
      "{'15:45': 42858}\n",
      "{'15:46': 47311}\n",
      "{'15:47': 48179}\n",
      "{'15:48': 47980}\n",
      "{'15:49': 42193}\n",
      "{'15:50': 45069}\n",
      "{'15:51': 43658}\n",
      "{'15:52': 48611}\n",
      "{'15:53': 42741}\n",
      "{'15:54': 51930}\n",
      "{'15:55': 45470}\n",
      "{'15:56': 137}\n"
     ]
    }
   ],
   "source": [
    "consumer.seek_to_beginning()\n",
    "for msg in consumer:\n",
    "    if msg.key is None: # Exclude test\n",
    "        print(msg.value)"
   ]
  },
  {
   "cell_type": "markdown",
   "id": "e0fa9378-09d4-4f38-be38-17a50f8c302d",
   "metadata": {},
   "source": [
    "## Random timestamps"
   ]
  },
  {
   "cell_type": "code",
   "execution_count": 117,
   "id": "f0451047-e494-4da3-8a01-94a9f36ab7d4",
   "metadata": {},
   "outputs": [],
   "source": [
    "import math\n",
    "from numpy import random"
   ]
  },
  {
   "cell_type": "code",
   "execution_count": 118,
   "id": "72f5a110-0a99-4318-af13-a99ea3ee1aa3",
   "metadata": {},
   "outputs": [],
   "source": [
    "dt = int(datetime.now().timestamp())"
   ]
  },
  {
   "cell_type": "code",
   "execution_count": 119,
   "id": "6b68ee06-a098-4b09-910d-a474fec25e7c",
   "metadata": {},
   "outputs": [],
   "source": [
    "def generate_random_timestamp(dt):\n",
    "    dt_str = str(dt)\n",
    "    # Ignore flips on first and last digit\n",
    "    for i in range(1, len(dt_str) + 1):\n",
    "        bitflip = str(random.randint(1, 9))\n",
    "        if i == 1:\n",
    "            new_dt = bitflip, dt_str[1:]\n",
    "        elif i == len(dt_str):\n",
    "            new_dt = dt_str[:-1], bitflip\n",
    "        else:\n",
    "            new_dt = dt_str[:i-1],  bitflip, dt_str[i:]\n",
    "        new_dt_int = int(''.join(new_dt))\n",
    "        diff = datetime.fromtimestamp(dt) - datetime.fromtimestamp(new_dt_int)\n",
    "        print(i, '-'.join(new_dt), dt_str, int(diff.total_seconds()))"
   ]
  },
  {
   "cell_type": "code",
   "execution_count": 120,
   "id": "4c2d6f6f-1042-444f-9d51-fc0e128407c0",
   "metadata": {},
   "outputs": [
    {
     "name": "stdout",
     "output_type": "stream",
     "text": [
      "1 8-649326946 1649326946 -6999996400\n",
      "2 1-5-49326946 1649326946 100003600\n",
      "3 16-5-9326946 1649326946 -10000000\n",
      "4 164-4-326946 1649326946 5003600\n",
      "5 1649-7-26946 1649326946 -400000\n",
      "6 16493-7-6946 1649326946 -50000\n",
      "7 164932-7-946 1649326946 -1000\n",
      "8 1649326-8-46 1649326946 100\n",
      "9 16493269-6-6 1649326946 -20\n",
      "10 164932694-5 1649326946 1\n"
     ]
    }
   ],
   "source": [
    "generate_random_timestamp(dt)"
   ]
  },
  {
   "cell_type": "code",
   "execution_count": null,
   "id": "41487da8-ed01-47f0-97ba-da533aa176f5",
   "metadata": {},
   "outputs": [],
   "source": []
  }
 ],
 "metadata": {
  "kernelspec": {
   "display_name": "doodlenv",
   "language": "python",
   "name": "doodlenv"
  },
  "language_info": {
   "codemirror_mode": {
    "name": "ipython",
    "version": 3
   },
   "file_extension": ".py",
   "mimetype": "text/x-python",
   "name": "python",
   "nbconvert_exporter": "python",
   "pygments_lexer": "ipython3",
   "version": "3.9.12"
  }
 },
 "nbformat": 4,
 "nbformat_minor": 5
}
